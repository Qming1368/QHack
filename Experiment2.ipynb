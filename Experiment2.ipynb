{
 "cells": [
  {
   "cell_type": "code",
   "execution_count": 1,
   "metadata": {},
   "outputs": [],
   "source": [
    "import numpy as np\n",
    "import matplotlib.pyplot as plt\n",
    "\n",
    "import torch\n",
    "from torch.autograd import Function\n",
    "from torchvision import datasets, transforms\n",
    "import torch.optim as optim\n",
    "import torch.nn as nn\n",
    "import torch.nn.functional as F\n",
    "\n"
   ]
  },
  {
   "cell_type": "code",
   "execution_count": 2,
   "metadata": {},
   "outputs": [
    {
     "name": "stderr",
     "output_type": "stream",
     "text": [
      "/Users/chenyixiong/anaconda3/lib/python3.7/site-packages/tensorflow/python/framework/dtypes.py:516: FutureWarning: Passing (type, 1) or '1type' as a synonym of type is deprecated; in a future version of numpy, it will be understood as (type, (1,)) / '(1,)type'.\n",
      "  _np_qint8 = np.dtype([(\"qint8\", np.int8, 1)])\n",
      "/Users/chenyixiong/anaconda3/lib/python3.7/site-packages/tensorflow/python/framework/dtypes.py:517: FutureWarning: Passing (type, 1) or '1type' as a synonym of type is deprecated; in a future version of numpy, it will be understood as (type, (1,)) / '(1,)type'.\n",
      "  _np_quint8 = np.dtype([(\"quint8\", np.uint8, 1)])\n",
      "/Users/chenyixiong/anaconda3/lib/python3.7/site-packages/tensorflow/python/framework/dtypes.py:518: FutureWarning: Passing (type, 1) or '1type' as a synonym of type is deprecated; in a future version of numpy, it will be understood as (type, (1,)) / '(1,)type'.\n",
      "  _np_qint16 = np.dtype([(\"qint16\", np.int16, 1)])\n",
      "/Users/chenyixiong/anaconda3/lib/python3.7/site-packages/tensorflow/python/framework/dtypes.py:519: FutureWarning: Passing (type, 1) or '1type' as a synonym of type is deprecated; in a future version of numpy, it will be understood as (type, (1,)) / '(1,)type'.\n",
      "  _np_quint16 = np.dtype([(\"quint16\", np.uint16, 1)])\n",
      "/Users/chenyixiong/anaconda3/lib/python3.7/site-packages/tensorflow/python/framework/dtypes.py:520: FutureWarning: Passing (type, 1) or '1type' as a synonym of type is deprecated; in a future version of numpy, it will be understood as (type, (1,)) / '(1,)type'.\n",
      "  _np_qint32 = np.dtype([(\"qint32\", np.int32, 1)])\n",
      "/Users/chenyixiong/anaconda3/lib/python3.7/site-packages/tensorflow/python/framework/dtypes.py:525: FutureWarning: Passing (type, 1) or '1type' as a synonym of type is deprecated; in a future version of numpy, it will be understood as (type, (1,)) / '(1,)type'.\n",
      "  np_resource = np.dtype([(\"resource\", np.ubyte, 1)])\n",
      "/Users/chenyixiong/anaconda3/lib/python3.7/site-packages/tensorboard/compat/tensorflow_stub/dtypes.py:541: FutureWarning: Passing (type, 1) or '1type' as a synonym of type is deprecated; in a future version of numpy, it will be understood as (type, (1,)) / '(1,)type'.\n",
      "  _np_qint8 = np.dtype([(\"qint8\", np.int8, 1)])\n",
      "/Users/chenyixiong/anaconda3/lib/python3.7/site-packages/tensorboard/compat/tensorflow_stub/dtypes.py:542: FutureWarning: Passing (type, 1) or '1type' as a synonym of type is deprecated; in a future version of numpy, it will be understood as (type, (1,)) / '(1,)type'.\n",
      "  _np_quint8 = np.dtype([(\"quint8\", np.uint8, 1)])\n",
      "/Users/chenyixiong/anaconda3/lib/python3.7/site-packages/tensorboard/compat/tensorflow_stub/dtypes.py:543: FutureWarning: Passing (type, 1) or '1type' as a synonym of type is deprecated; in a future version of numpy, it will be understood as (type, (1,)) / '(1,)type'.\n",
      "  _np_qint16 = np.dtype([(\"qint16\", np.int16, 1)])\n",
      "/Users/chenyixiong/anaconda3/lib/python3.7/site-packages/tensorboard/compat/tensorflow_stub/dtypes.py:544: FutureWarning: Passing (type, 1) or '1type' as a synonym of type is deprecated; in a future version of numpy, it will be understood as (type, (1,)) / '(1,)type'.\n",
      "  _np_quint16 = np.dtype([(\"quint16\", np.uint16, 1)])\n",
      "/Users/chenyixiong/anaconda3/lib/python3.7/site-packages/tensorboard/compat/tensorflow_stub/dtypes.py:545: FutureWarning: Passing (type, 1) or '1type' as a synonym of type is deprecated; in a future version of numpy, it will be understood as (type, (1,)) / '(1,)type'.\n",
      "  _np_qint32 = np.dtype([(\"qint32\", np.int32, 1)])\n",
      "/Users/chenyixiong/anaconda3/lib/python3.7/site-packages/tensorboard/compat/tensorflow_stub/dtypes.py:550: FutureWarning: Passing (type, 1) or '1type' as a synonym of type is deprecated; in a future version of numpy, it will be understood as (type, (1,)) / '(1,)type'.\n",
      "  np_resource = np.dtype([(\"resource\", np.ubyte, 1)])\n"
     ]
    }
   ],
   "source": [
    "\n",
    "\n",
    "# Plotting\n",
    "%matplotlib inline\n",
    "import matplotlib.pyplot as plt\n",
    "\n",
    "# PyTorch\n",
    "import torch\n",
    "import torch.nn as nn\n",
    "import torch.optim as optim\n",
    "from torch.optim import lr_scheduler\n",
    "import torchvision\n",
    "from torchvision import datasets, models, transforms\n",
    "\n",
    "# Pennylane\n",
    "import pennylane as qml\n",
    "from pennylane import numpy as np\n",
    "\n",
    "# Other tools\n",
    "import time\n",
    "import os\n",
    "import copy"
   ]
  },
  {
   "cell_type": "code",
   "execution_count": 3,
   "metadata": {
    "scrolled": true
   },
   "outputs": [],
   "source": [
    "n_samples = 100\n",
    "\n",
    "X_train = datasets.MNIST(root='./data', train=True, download=True,\n",
    "                         transform=transforms.Compose([transforms.ToTensor()]))\n",
    "\n",
    "# Leaving only labels 0 and 1 \n",
    "idx = []\n",
    "for i in range (6):\n",
    "    idx.extend(np.where(X_train.targets == i)[0][:n_samples])\n",
    "\n",
    "X_train.data = X_train.data[idx]\n",
    "X_train.targets = X_train.targets[idx]\n",
    "\n",
    "train_loader = torch.utils.data.DataLoader(X_train, batch_size=1, shuffle=True)"
   ]
  },
  {
   "cell_type": "code",
   "execution_count": 4,
   "metadata": {},
   "outputs": [],
   "source": [
    "n_samples = 50\n",
    "\n",
    "X_test = datasets.MNIST(root='./data', train=False, download=True,\n",
    "                        transform=transforms.Compose([transforms.ToTensor()]))\n",
    "\n",
    "idx = []\n",
    "for i in range (6):\n",
    "    idx.extend(np.where(X_test.targets == i)[0][:n_samples])\n",
    "\n",
    "X_test.data = X_test.data[idx]\n",
    "X_test.targets = X_test.targets[idx]\n",
    "\n",
    "test_loader = torch.utils.data.DataLoader(X_test, batch_size=1, shuffle=True)"
   ]
  },
  {
   "cell_type": "code",
   "execution_count": 5,
   "metadata": {},
   "outputs": [],
   "source": [
    "n_qubits = 2\n",
    "num_epoch = 40"
   ]
  },
  {
   "cell_type": "code",
   "execution_count": 6,
   "metadata": {},
   "outputs": [],
   "source": [
    "dev = qml.device('default.qubit.autograd', wires=n_qubits)\n",
    "device = torch.device(\"cuda:0\" if torch.cuda.is_available() else \"cpu\")"
   ]
  },
  {
   "cell_type": "code",
   "execution_count": 7,
   "metadata": {},
   "outputs": [],
   "source": [
    "def H_layer(nqubits):\n",
    "    \"\"\"Layer of single-qubit Hadamard gates. \n",
    "    \"\"\"\n",
    "    for idx in range(nqubits):\n",
    "        qml.Hadamard(wires=idx)\n",
    "        \n",
    "def RY_layer(w):\n",
    "    \"\"\"Layer of parametrized qubit rotations around the y axis. \n",
    "    \"\"\"\n",
    "    for idx, element in enumerate(w):\n",
    "        qml.RY(element, wires=idx)"
   ]
  },
  {
   "cell_type": "code",
   "execution_count": 8,
   "metadata": {},
   "outputs": [],
   "source": [
    "@qml.qnode(dev, interface='torch',diff_method='best')\n",
    "def q_net(q_in):\n",
    "        \n",
    "        H_layer(n_qubits)   \n",
    "        \n",
    "        RY_layer(q_in)      \n",
    "       \n",
    "\n",
    "        return [qml.expval(qml.PauliZ(j)) for j in range(n_qubits)]"
   ]
  },
  {
   "cell_type": "code",
   "execution_count": 9,
   "metadata": {},
   "outputs": [],
   "source": [
    "# Quantum activation funciton\n",
    "class Quantumnet(nn.Module):\n",
    "        def __init__(self):\n",
    "            super().__init__()\n",
    "\n",
    "        def forward(self, q_in):\n",
    "     \n",
    "            # Apply the quantum circuit to each element of the batch and append to q_out\n",
    "            q_out = torch.Tensor(0, n_qubits)\n",
    "            q_out = q_out.to(device)\n",
    "            for elem in q_in:\n",
    "                q_out_elem = q_net(elem).float().unsqueeze(0)\n",
    "                q_out = torch.cat((q_out, q_out_elem))\n",
    "\n",
    "            return (q_out)\n"
   ]
  },
  {
   "cell_type": "code",
   "execution_count": 10,
   "metadata": {},
   "outputs": [],
   "source": [
    "# # Hybrid QCNN model with fc2 layer followed by quantum activation function \n",
    "class QCNN(nn.Module):\n",
    "    def __init__(self):\n",
    "        super(QCNN, self).__init__()\n",
    "        self.conv1 = nn.Conv2d(1, 6, kernel_size=5)\n",
    "        self.conv2 = nn.Conv2d(6, 16, kernel_size=5)\n",
    "        self.conv3 = nn.Conv2d(16, 120, kernel_size=5)\n",
    "        self.pool1 = nn.AvgPool2d(kernel_size = 2)\n",
    "        self.pool2 = nn.AvgPool2d(kernel_size = 2)\n",
    "        self.dropout = nn.Dropout2d()\n",
    "        self.fc1 = nn.Linear(256, 64)\n",
    "        self.fc2 = nn.Linear(64, 2)\n",
    "        self.quantum = Quantumnet()\n",
    "        self.fc3 = nn.Linear(2, 6)\n",
    "\n",
    "    def forward(self, x):\n",
    "        x = F.relu(self.conv1(x))\n",
    "        x = F.max_pool2d(x, 2)\n",
    "        x = F.relu(self.conv2(x))\n",
    "        x = F.max_pool2d(x, 2)\n",
    "        x = self.dropout(x)\n",
    "        x = x.view(-1, 256)\n",
    "        x = F.relu(self.fc1(x))\n",
    "        x = self.fc2(x)\n",
    "        x = self.quantum(x)\n",
    "        x = self.fc3(x)\n",
    "        return x"
   ]
  },
  {
   "cell_type": "code",
   "execution_count": 11,
   "metadata": {},
   "outputs": [],
   "source": [
    "# CNN model with fc2 layer followed by sigmoid function \n",
    "class CNN1(nn.Module):\n",
    "    def __init__(self):\n",
    "        super(CNN1, self).__init__()\n",
    "        self.conv1 = nn.Conv2d(1, 6, kernel_size=5)\n",
    "        self.conv2 = nn.Conv2d(6, 16, kernel_size=5)\n",
    "        self.conv3 = nn.Conv2d(16, 120, kernel_size=5)\n",
    "        self.dropout = nn.Dropout2d()\n",
    "        self.fc1 = nn.Linear(256, 64)\n",
    "        self.fc2 = nn.Linear(64, 2)\n",
    "        self.fc3 = nn.Linear(2, 6)\n",
    "\n",
    "    def forward(self, x):\n",
    "        x = F.relu(self.conv1(x))\n",
    "        x = F.max_pool2d(x, 2)\n",
    "        x = F.relu(self.conv2(x))\n",
    "        x = F.max_pool2d(x, 2)\n",
    "        x = self.dropout(x)\n",
    "        x = x.view(-1, 256)\n",
    "        x = F.relu(self.fc1(x))\n",
    "        x = self.fc2(x)\n",
    "        x = torch.sigmoid(x)\n",
    "        x = self.fc3(x)\n",
    "        return x"
   ]
  },
  {
   "cell_type": "code",
   "execution_count": 12,
   "metadata": {},
   "outputs": [],
   "source": [
    "# CNN model with fc2 layer followed by tanh function \n",
    "class CNN2(nn.Module):\n",
    "    def __init__(self):\n",
    "        super(CNN2, self).__init__()\n",
    "        self.conv1 = nn.Conv2d(1, 6, kernel_size=5)\n",
    "        self.conv2 = nn.Conv2d(6, 16, kernel_size=5)\n",
    "        self.conv3 = nn.Conv2d(16, 120, kernel_size=5)\n",
    "        self.dropout = nn.Dropout2d()\n",
    "        self.fc1 = nn.Linear(256, 64)\n",
    "        self.fc2 = nn.Linear(64, 2)\n",
    "        self.fc3 = nn.Linear(2, 6)\n",
    "\n",
    "    def forward(self, x):\n",
    "        x = F.relu(self.conv1(x))\n",
    "        x = F.max_pool2d(x, 2)\n",
    "        x = F.relu(self.conv2(x))\n",
    "        x = F.max_pool2d(x, 2)\n",
    "        x = self.dropout(x)\n",
    "        x = x.view(-1, 256)\n",
    "        x = F.relu(self.fc1(x))\n",
    "        x = self.fc2(x)\n",
    "        x = torch.tanh(x)\n",
    "        x = self.fc3(x)\n",
    "        return x"
   ]
  },
  {
   "cell_type": "code",
   "execution_count": 13,
   "metadata": {},
   "outputs": [],
   "source": [
    "def train(model,opimizer,loss_func,train_loader):\n",
    "    model.train()\n",
    "\n",
    "    total_loss = []\n",
    "    for batch_idx, (data, target) in enumerate(train_loader):\n",
    "        optimizer.zero_grad()\n",
    "        # Forward pass\n",
    "        output = model(data)\n",
    "        # Calculating loss\n",
    "        loss = loss_func(output, target)\n",
    "        # Backward pass\n",
    "        loss.backward()\n",
    "        # Optimize the weights\n",
    "        optimizer.step()\n",
    "\n",
    "        total_loss.append(loss.item())\n",
    "\n",
    "    return sum(total_loss)/len(total_loss)\n"
   ]
  },
  {
   "cell_type": "code",
   "execution_count": 14,
   "metadata": {},
   "outputs": [],
   "source": [
    "def validation(model,test_loader):\n",
    "    model.eval()\n",
    "    with torch.no_grad():\n",
    "        total_loss = []\n",
    "        correct = 0\n",
    "        for batch_idx, (data, target) in enumerate(test_loader):\n",
    "            output = model(data)\n",
    "            pred = output.argmax(dim=1, keepdim=True) \n",
    "            correct += pred.eq(target.view_as(pred)).sum().item()\n",
    "\n",
    "            loss = loss_func(output, target)\n",
    "            total_loss.append(loss.item())\n",
    "    loss = sum(total_loss) / len(total_loss)\n",
    "    acc = correct / len(test_loader) * 100\n",
    "\n",
    "    return loss, acc"
   ]
  },
  {
   "cell_type": "markdown",
   "metadata": {},
   "source": [
    "## Performance evaluation of hybrid QCNN model with quantum activation function"
   ]
  },
  {
   "cell_type": "code",
   "execution_count": 15,
   "metadata": {
    "scrolled": true
   },
   "outputs": [
    {
     "name": "stdout",
     "output_type": "stream",
     "text": [
      "Training [2%]\ttrain_Loss: 1.6888\ttest_acc: 60.3%\n",
      "Training [5%]\ttrain_Loss: 1.4029\ttest_acc: 66.3%\n",
      "Training [8%]\ttrain_Loss: 1.2144\ttest_acc: 66.7%\n",
      "Training [10%]\ttrain_Loss: 1.0436\ttest_acc: 70.7%\n",
      "Training [12%]\ttrain_Loss: 0.9336\ttest_acc: 71.0%\n",
      "Training [15%]\ttrain_Loss: 0.8576\ttest_acc: 74.0%\n",
      "Training [18%]\ttrain_Loss: 0.7770\ttest_acc: 75.7%\n",
      "Training [20%]\ttrain_Loss: 0.7193\ttest_acc: 80.0%\n",
      "Training [22%]\ttrain_Loss: 0.6804\ttest_acc: 79.7%\n",
      "Training [25%]\ttrain_Loss: 0.6449\ttest_acc: 82.0%\n",
      "Training [28%]\ttrain_Loss: 0.6173\ttest_acc: 82.3%\n",
      "Training [30%]\ttrain_Loss: 0.5826\ttest_acc: 81.0%\n",
      "Training [32%]\ttrain_Loss: 0.5525\ttest_acc: 85.0%\n",
      "Training [35%]\ttrain_Loss: 0.5347\ttest_acc: 81.3%\n",
      "Training [38%]\ttrain_Loss: 0.4963\ttest_acc: 81.7%\n",
      "Training [40%]\ttrain_Loss: 0.4838\ttest_acc: 80.0%\n",
      "Training [42%]\ttrain_Loss: 0.4734\ttest_acc: 82.7%\n",
      "Training [45%]\ttrain_Loss: 0.4522\ttest_acc: 80.0%\n",
      "Training [48%]\ttrain_Loss: 0.4558\ttest_acc: 81.0%\n",
      "Training [50%]\ttrain_Loss: 0.4452\ttest_acc: 80.3%\n",
      "Training [52%]\ttrain_Loss: 0.4114\ttest_acc: 82.3%\n",
      "Training [55%]\ttrain_Loss: 0.3997\ttest_acc: 83.0%\n",
      "Training [58%]\ttrain_Loss: 0.3945\ttest_acc: 82.7%\n",
      "Training [60%]\ttrain_Loss: 0.3901\ttest_acc: 81.7%\n",
      "Training [62%]\ttrain_Loss: 0.3999\ttest_acc: 80.0%\n",
      "Training [65%]\ttrain_Loss: 0.3861\ttest_acc: 81.0%\n",
      "Training [68%]\ttrain_Loss: 0.3644\ttest_acc: 80.0%\n",
      "Training [70%]\ttrain_Loss: 0.3803\ttest_acc: 80.7%\n",
      "Training [72%]\ttrain_Loss: 0.3484\ttest_acc: 82.3%\n",
      "Training [75%]\ttrain_Loss: 0.3427\ttest_acc: 84.0%\n",
      "Training [78%]\ttrain_Loss: 0.3576\ttest_acc: 82.7%\n",
      "Training [80%]\ttrain_Loss: 0.3463\ttest_acc: 81.7%\n",
      "Training [82%]\ttrain_Loss: 0.3351\ttest_acc: 81.7%\n",
      "Training [85%]\ttrain_Loss: 0.3357\ttest_acc: 80.7%\n",
      "Training [88%]\ttrain_Loss: 0.3269\ttest_acc: 86.3%\n",
      "Training [90%]\ttrain_Loss: 0.3493\ttest_acc: 81.0%\n",
      "Training [92%]\ttrain_Loss: 0.3196\ttest_acc: 88.3%\n",
      "Training [95%]\ttrain_Loss: 0.3224\ttest_acc: 84.3%\n",
      "Training [98%]\ttrain_Loss: 0.3481\ttest_acc: 92.7%\n",
      "Training [100%]\ttrain_Loss: 0.3131\ttest_acc: 90.0%\n"
     ]
    }
   ],
   "source": [
    "\n",
    "model = QCNN()\n",
    "optimizer = optim.Adam(model.parameters(), lr=0.001)\n",
    "loss_func = nn.CrossEntropyLoss()\n",
    "train_loss_list1 = []\n",
    "test_loss_list1 = []\n",
    "acc_list1 = []\n",
    "for epoch in range(num_epoch):\n",
    "    train_loss = train(model,optimizer,loss_func,train_loader)\n",
    "    #print(train_loss )\n",
    "    train_loss_list1.append(train_loss)\n",
    "    test_loss, acc = validation(model,test_loader)\n",
    "   # print(acc)\n",
    "    acc_list1.append(acc)\n",
    "    test_loss_list1.append(test_loss)\n",
    "    print('Training [{:.0f}%]\\ttrain_Loss: {:.4f}\\ttest_acc: {:.1f}%'.format(\n",
    "        100. * (epoch + 1) / num_epoch, train_loss,acc))\n",
    "    "
   ]
  },
  {
   "cell_type": "markdown",
   "metadata": {},
   "source": [
    "## Performance evaluation of CNN model with sigmoild activation funciton"
   ]
  },
  {
   "cell_type": "code",
   "execution_count": 16,
   "metadata": {
    "scrolled": true
   },
   "outputs": [
    {
     "name": "stdout",
     "output_type": "stream",
     "text": [
      "Training [2%]\ttrain_Loss: 1.7758\ttest_acc: 29.0%\n",
      "Training [5%]\ttrain_Loss: 1.5944\ttest_acc: 48.7%\n",
      "Training [8%]\ttrain_Loss: 1.4806\ttest_acc: 48.0%\n",
      "Training [10%]\ttrain_Loss: 1.4064\ttest_acc: 49.3%\n",
      "Training [12%]\ttrain_Loss: 1.3434\ttest_acc: 48.7%\n",
      "Training [15%]\ttrain_Loss: 1.2829\ttest_acc: 49.0%\n",
      "Training [18%]\ttrain_Loss: 1.2247\ttest_acc: 47.3%\n",
      "Training [20%]\ttrain_Loss: 1.1728\ttest_acc: 48.3%\n",
      "Training [22%]\ttrain_Loss: 1.1454\ttest_acc: 47.7%\n",
      "Training [25%]\ttrain_Loss: 1.1017\ttest_acc: 49.0%\n",
      "Training [28%]\ttrain_Loss: 1.0640\ttest_acc: 48.7%\n",
      "Training [30%]\ttrain_Loss: 1.0375\ttest_acc: 51.0%\n",
      "Training [32%]\ttrain_Loss: 1.0128\ttest_acc: 56.0%\n",
      "Training [35%]\ttrain_Loss: 1.0029\ttest_acc: 52.7%\n",
      "Training [38%]\ttrain_Loss: 0.9643\ttest_acc: 54.0%\n",
      "Training [40%]\ttrain_Loss: 0.9345\ttest_acc: 61.0%\n",
      "Training [42%]\ttrain_Loss: 0.9030\ttest_acc: 66.3%\n",
      "Training [45%]\ttrain_Loss: 0.8782\ttest_acc: 65.3%\n",
      "Training [48%]\ttrain_Loss: 0.8429\ttest_acc: 65.3%\n",
      "Training [50%]\ttrain_Loss: 0.8116\ttest_acc: 64.7%\n",
      "Training [52%]\ttrain_Loss: 0.7851\ttest_acc: 64.7%\n",
      "Training [55%]\ttrain_Loss: 0.7703\ttest_acc: 64.3%\n",
      "Training [58%]\ttrain_Loss: 0.7474\ttest_acc: 65.0%\n",
      "Training [60%]\ttrain_Loss: 0.7123\ttest_acc: 64.7%\n",
      "Training [62%]\ttrain_Loss: 0.6940\ttest_acc: 65.0%\n",
      "Training [65%]\ttrain_Loss: 0.6985\ttest_acc: 66.3%\n",
      "Training [68%]\ttrain_Loss: 0.6800\ttest_acc: 65.3%\n",
      "Training [70%]\ttrain_Loss: 0.6608\ttest_acc: 65.3%\n",
      "Training [72%]\ttrain_Loss: 0.6627\ttest_acc: 66.0%\n",
      "Training [75%]\ttrain_Loss: 0.6495\ttest_acc: 66.3%\n",
      "Training [78%]\ttrain_Loss: 0.6333\ttest_acc: 66.3%\n",
      "Training [80%]\ttrain_Loss: 0.6192\ttest_acc: 65.0%\n",
      "Training [82%]\ttrain_Loss: 0.6016\ttest_acc: 64.7%\n",
      "Training [85%]\ttrain_Loss: 0.6015\ttest_acc: 67.3%\n",
      "Training [88%]\ttrain_Loss: 0.5878\ttest_acc: 65.0%\n",
      "Training [90%]\ttrain_Loss: 0.5851\ttest_acc: 65.3%\n",
      "Training [92%]\ttrain_Loss: 0.5766\ttest_acc: 64.3%\n",
      "Training [95%]\ttrain_Loss: 0.5716\ttest_acc: 65.0%\n",
      "Training [98%]\ttrain_Loss: 0.5921\ttest_acc: 65.7%\n",
      "Training [100%]\ttrain_Loss: 0.5705\ttest_acc: 66.3%\n"
     ]
    }
   ],
   "source": [
    "\n",
    "model = CNN1()\n",
    "optimizer = optim.Adam(model.parameters(), lr=0.001)\n",
    "loss_func = nn.CrossEntropyLoss()\n",
    "train_loss_list2 = []\n",
    "test_loss_list2 = []\n",
    "acc_list2 = []\n",
    "for epoch in range(num_epoch):\n",
    "    train_loss = train(model,optimizer,loss_func,train_loader)\n",
    "    #print(train_loss )\n",
    "    train_loss_list2.append(train_loss)\n",
    "    test_loss, acc = validation(model,test_loader)\n",
    "   # print(acc)\n",
    "    acc_list2.append(acc)\n",
    "    test_loss_list2.append(test_loss)\n",
    "    print('Training [{:.0f}%]\\ttrain_Loss: {:.4f}\\ttest_acc: {:.1f}%'.format(\n",
    "        100. * (epoch + 1) / num_epoch, train_loss,acc))\n",
    "    "
   ]
  },
  {
   "cell_type": "markdown",
   "metadata": {},
   "source": [
    "##  Performance evaluation of CNN model with tanh activation funciton"
   ]
  },
  {
   "cell_type": "code",
   "execution_count": 17,
   "metadata": {
    "scrolled": true
   },
   "outputs": [
    {
     "name": "stdout",
     "output_type": "stream",
     "text": [
      "Training [2%]\ttrain_Loss: 1.6552\ttest_acc: 44.3%\n",
      "Training [5%]\ttrain_Loss: 1.3905\ttest_acc: 48.0%\n",
      "Training [8%]\ttrain_Loss: 1.2739\ttest_acc: 53.0%\n",
      "Training [10%]\ttrain_Loss: 1.1622\ttest_acc: 54.3%\n",
      "Training [12%]\ttrain_Loss: 1.1186\ttest_acc: 56.7%\n",
      "Training [15%]\ttrain_Loss: 1.0284\ttest_acc: 57.3%\n",
      "Training [18%]\ttrain_Loss: 0.9525\ttest_acc: 64.7%\n",
      "Training [20%]\ttrain_Loss: 0.8967\ttest_acc: 67.0%\n",
      "Training [22%]\ttrain_Loss: 0.8231\ttest_acc: 65.0%\n",
      "Training [25%]\ttrain_Loss: 0.7975\ttest_acc: 63.3%\n",
      "Training [28%]\ttrain_Loss: 0.7600\ttest_acc: 63.3%\n",
      "Training [30%]\ttrain_Loss: 0.7266\ttest_acc: 67.0%\n",
      "Training [32%]\ttrain_Loss: 0.7382\ttest_acc: 65.0%\n",
      "Training [35%]\ttrain_Loss: 0.6971\ttest_acc: 64.7%\n",
      "Training [38%]\ttrain_Loss: 0.6673\ttest_acc: 66.0%\n",
      "Training [40%]\ttrain_Loss: 0.6530\ttest_acc: 67.0%\n",
      "Training [42%]\ttrain_Loss: 0.6389\ttest_acc: 67.3%\n",
      "Training [45%]\ttrain_Loss: 0.6540\ttest_acc: 65.0%\n",
      "Training [48%]\ttrain_Loss: 0.6186\ttest_acc: 69.0%\n",
      "Training [50%]\ttrain_Loss: 0.5961\ttest_acc: 67.0%\n",
      "Training [52%]\ttrain_Loss: 0.5902\ttest_acc: 67.7%\n",
      "Training [55%]\ttrain_Loss: 0.6057\ttest_acc: 65.0%\n",
      "Training [58%]\ttrain_Loss: 0.5831\ttest_acc: 64.7%\n",
      "Training [60%]\ttrain_Loss: 0.5831\ttest_acc: 67.3%\n",
      "Training [62%]\ttrain_Loss: 0.5839\ttest_acc: 66.7%\n",
      "Training [65%]\ttrain_Loss: 0.5740\ttest_acc: 66.3%\n",
      "Training [68%]\ttrain_Loss: 0.5526\ttest_acc: 67.3%\n",
      "Training [70%]\ttrain_Loss: 0.5539\ttest_acc: 65.3%\n",
      "Training [72%]\ttrain_Loss: 0.5598\ttest_acc: 68.0%\n",
      "Training [75%]\ttrain_Loss: 0.5695\ttest_acc: 65.7%\n",
      "Training [78%]\ttrain_Loss: 0.5532\ttest_acc: 64.7%\n",
      "Training [80%]\ttrain_Loss: 0.5758\ttest_acc: 65.0%\n",
      "Training [82%]\ttrain_Loss: 0.5396\ttest_acc: 64.7%\n",
      "Training [85%]\ttrain_Loss: 0.5331\ttest_acc: 65.0%\n",
      "Training [88%]\ttrain_Loss: 0.5452\ttest_acc: 64.7%\n",
      "Training [90%]\ttrain_Loss: 0.5232\ttest_acc: 64.3%\n",
      "Training [92%]\ttrain_Loss: 0.5660\ttest_acc: 69.0%\n",
      "Training [95%]\ttrain_Loss: 0.5593\ttest_acc: 67.0%\n",
      "Training [98%]\ttrain_Loss: 0.5415\ttest_acc: 66.3%\n",
      "Training [100%]\ttrain_Loss: 0.5130\ttest_acc: 67.0%\n"
     ]
    }
   ],
   "source": [
    "\n",
    "model = CNN2()\n",
    "optimizer = optim.Adam(model.parameters(), lr=0.001)\n",
    "loss_func = nn.CrossEntropyLoss()\n",
    "train_loss_list3 = []\n",
    "test_loss_list3 = []\n",
    "acc_list3 = []\n",
    "for epoch in range(num_epoch):\n",
    "    train_loss = train(model,optimizer,loss_func,train_loader)\n",
    "    #print(train_loss )\n",
    "    train_loss_list3.append(train_loss)\n",
    "    test_loss, acc = validation(model,test_loader)\n",
    "   # print(acc)\n",
    "    acc_list3.append(acc)\n",
    "    test_loss_list3.append(test_loss)\n",
    "    print('Training [{:.0f}%]\\ttrain_Loss: {:.4f}\\ttest_acc: {:.1f}%'.format(\n",
    "        100. * (epoch + 1) / num_epoch, train_loss,acc))\n",
    "    "
   ]
  },
  {
   "cell_type": "markdown",
   "metadata": {},
   "source": [
    "## Plot loss and accurcy curves"
   ]
  },
  {
   "cell_type": "code",
   "execution_count": 18,
   "metadata": {},
   "outputs": [
    {
     "data": {
      "text/plain": [
       "Text(0, 0.5, 'Loss')"
      ]
     },
     "execution_count": 18,
     "metadata": {},
     "output_type": "execute_result"
    },
    {
     "data": {
      "image/png": "[encoded data removed]",
      "text/plain": [
       "<Figure size 432x288 with 1 Axes>"
      ]
     },
     "metadata": {
      "needs_background": "light"
     },
     "output_type": "display_data"
    }
   ],
   "source": [
    "plt.plot(train_loss_list1,label='Quantum Circuit')\n",
    "plt.plot(train_loss_list2,label='Sigmoid')\n",
    "plt.plot(train_loss_list3,label='Tanh')\n",
    "\n",
    "plt.legend()\n",
    "plt.title('Hybrid NN Training Loss')\n",
    "plt.xlabel('Training Iterations')\n",
    "plt.ylabel('Loss')\n"
   ]
  },
  {
   "cell_type": "code",
   "execution_count": 19,
   "metadata": {},
   "outputs": [
    {
     "data": {
      "text/plain": [
       "Text(0, 0.5, 'Accuracy')"
      ]
     },
     "execution_count": 19,
     "metadata": {},
     "output_type": "execute_result"
    },
    {
     "data": {
      "image/png": "[encoded data removed]",
      "text/plain": [
       "<Figure size 432x288 with 1 Axes>"
      ]
     },
     "metadata": {
      "needs_background": "light"
     },
     "output_type": "display_data"
    }
   ],
   "source": [
    "plt.plot(acc_list1,label='Quantum Circuit')\n",
    "plt.plot(acc_list2,label='Sigmoid')\n",
    "plt.plot(acc_list3,label='Tanh')\n",
    "\n",
    "plt.legend()\n",
    "plt.title('Hybrid NN Test Loss')\n",
    "plt.xlabel('Test Iterations')\n",
    "plt.ylabel('Accuracy')\n"
   ]
  },
  {
   "cell_type": "code",
   "execution_count": null,
   "metadata": {},
   "outputs": [],
   "source": []
  }
 ],
 "metadata": {
  "kernelspec": {
   "display_name": "Python 3",
   "language": "python",
   "name": "python3"
  },
  "language_info": {
   "codemirror_mode": {
    "name": "ipython",
    "version": 3
   },
   "file_extension": ".py",
   "mimetype": "text/x-python",
   "name": "python",
   "nbconvert_exporter": "python",
   "pygments_lexer": "ipython3",
   "version": "3.7.1"
  }
 },
 "nbformat": 4,
 "nbformat_minor": 4
}
